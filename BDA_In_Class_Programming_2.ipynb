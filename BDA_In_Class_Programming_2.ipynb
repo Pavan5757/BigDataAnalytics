{
  "nbformat": 4,
  "nbformat_minor": 0,
  "metadata": {
    "colab": {
      "provenance": []
    },
    "kernelspec": {
      "name": "python3",
      "display_name": "Python 3"
    },
    "language_info": {
      "name": "python"
    }
  },
  "cells": [
    {
      "cell_type": "code",
      "execution_count": 1,
      "metadata": {
        "colab": {
          "base_uri": "https://localhost:8080/"
        },
        "id": "zGE5ufXltwIY",
        "outputId": "a958c5c3-08d3-40a7-e504-42fb2c103373"
      },
      "outputs": [
        {
          "output_type": "stream",
          "name": "stdout",
          "text": [
            "Instance count: 2, Class count: 3\n",
            "Instance count: 1, Class count: 3\n"
          ]
        }
      ],
      "source": [
        "class Counter:\n",
        "    count = 0\n",
        "\n",
        "    def __init__(self):\n",
        "        self._count = 0\n",
        "\n",
        "    def increment(self):\n",
        "        self._count += 1\n",
        "        Counter.count += 1\n",
        "\n",
        "    def get_counts(self):\n",
        "        return f\"Instance count: {self._count}, Class count: {Counter.count}\"\n",
        "\n",
        "a = Counter()\n",
        "b = Counter()\n",
        "\n",
        "a.increment()\n",
        "a.increment()\n",
        "b.increment()\n",
        "\n",
        "print(a.get_counts())\n",
        "print(b.get_counts())\n"
      ]
    },
    {
      "cell_type": "markdown",
      "source": [
        "Explain the difference between Counter.count and self._count\n",
        "\n",
        "**Counter.count** is a class variable,\n",
        "shared across all instances of the class.\n",
        "Changing this affects the variable globally for all objects.\n",
        "\n",
        "**self._count** is an instance variable, unique to each object.\n",
        "Changing this affects only that particular instance."
      ],
      "metadata": {
        "id": "tRKyEa5nu0cO"
      }
    },
    {
      "cell_type": "markdown",
      "source": [
        "How does the increment method affect both the class and instance variables?\n",
        "\n",
        "**self._count += 1:** Increments the instance variable specific to the object.\n",
        "\n",
        "**Counter.count += 1:** Increments the class variable shared by all instances.\n",
        "\n",
        "This allows each object to track its own individual count, while the class tracks the total number of increments across all instances."
      ],
      "metadata": {
        "id": "yB_RTGqGwCsU"
      }
    },
    {
      "cell_type": "code",
      "source": [
        "def sum_all(*args):\n",
        "    return sum(args)\n",
        "\n",
        "print(\"Sum of 1, 2, 3 is:\", sum_all(1, 2, 3))\n",
        "print(\"Sum of 4, 5, 6, 7 is:\", sum_all(4, 5, 6, 7))\n"
      ],
      "metadata": {
        "colab": {
          "base_uri": "https://localhost:8080/"
        },
        "id": "ZaM4u5New_42",
        "outputId": "09f7df6c-2886-45ac-953a-36984ba02652"
      },
      "execution_count": 2,
      "outputs": [
        {
          "output_type": "stream",
          "name": "stdout",
          "text": [
            "Sum of 1, 2, 3 is: 6\n",
            "Sum of 4, 5, 6, 7 is: 22\n"
          ]
        }
      ]
    },
    {
      "cell_type": "code",
      "source": [
        "def first_word(words):\n",
        "    words.sort()\n",
        "    return words[0]"
      ],
      "metadata": {
        "id": "Xim7cwaJxuSF"
      },
      "execution_count": 3,
      "outputs": []
    },
    {
      "cell_type": "code",
      "source": [
        "students = ['Mary', 'Zelda', 'Jimmy', 'Jack', 'Bartholomew', 'Gertrude']\n",
        "print(first_word(students))"
      ],
      "metadata": {
        "colab": {
          "base_uri": "https://localhost:8080/"
        },
        "id": "_gKAZNU2yZ1D",
        "outputId": "f823b47e-6443-4167-b7b9-e0371a04c158"
      },
      "execution_count": 4,
      "outputs": [
        {
          "output_type": "stream",
          "name": "stdout",
          "text": [
            "Bartholomew\n"
          ]
        }
      ]
    },
    {
      "cell_type": "code",
      "source": [
        "class Employee:\n",
        "    employee_count = 0\n",
        "    salaries = []\n",
        "\n",
        "    def __init__(self, name, family, salary, department):\n",
        "        self.name = name\n",
        "        self.family = family\n",
        "        self.salary = salary\n",
        "        self.department = department\n",
        "        Employee.employee_count += 1\n",
        "        Employee.salaries.append(salary)\n",
        "\n",
        "    def average_salary(self):\n",
        "        return sum(Employee.salaries) / len(Employee.salaries)\n",
        "\n",
        "    def show_details(self):\n",
        "        print(f\"Name: {self.name}, Family: {self.family}, Salary: {self.salary}, Department: {self.department}\")\n",
        "\n",
        "\n",
        "class FulltimeEmployee(Employee):\n",
        "    def __init__(self, name, family, salary, department):\n",
        "        super().__init__(name, family, salary, department)\n",
        "\n",
        "e1 = Employee(\"Alice\", \"Smith\", 60000, \"HR\")\n",
        "e2 = FulltimeEmployee(\"Bob\", \"Jones\", 75000, \"Engineering\")\n",
        "e3 = FulltimeEmployee(\"Charlie\", \"Brown\", 70000, \"Sales\")\n",
        "\n",
        "e1.show_details()\n",
        "e2.show_details()\n",
        "e3.show_details()\n",
        "\n",
        "print(\"Total Employees:\", Employee.employee_count)\n",
        "print(\"Average Salary:\", e1.average_salary())\n"
      ],
      "metadata": {
        "colab": {
          "base_uri": "https://localhost:8080/"
        },
        "id": "0k-SnOy8ys8z",
        "outputId": "189510ab-f618-49b7-ac90-8d3e766b0e8b"
      },
      "execution_count": 6,
      "outputs": [
        {
          "output_type": "stream",
          "name": "stdout",
          "text": [
            "Name: Alice, Family: Smith, Salary: 60000, Department: HR\n",
            "Name: Bob, Family: Jones, Salary: 75000, Department: Engineering\n",
            "Name: Charlie, Family: Brown, Salary: 70000, Department: Sales\n",
            "Total Employees: 3\n",
            "Average Salary: 68333.33333333333\n"
          ]
        }
      ]
    }
  ]
}