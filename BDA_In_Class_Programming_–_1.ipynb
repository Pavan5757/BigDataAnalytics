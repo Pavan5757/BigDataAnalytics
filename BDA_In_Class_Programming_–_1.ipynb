{
  "nbformat": 4,
  "nbformat_minor": 0,
  "metadata": {
    "colab": {
      "provenance": []
    },
    "kernelspec": {
      "name": "python3",
      "display_name": "Python 3"
    },
    "language_info": {
      "name": "python"
    }
  },
  "cells": [
    {
      "cell_type": "code",
      "source": [
        "input_str = input(\"Enter the string: \")"
      ],
      "metadata": {
        "colab": {
          "base_uri": "https://localhost:8080/"
        },
        "id": "Z3S7iw3GiY6D",
        "outputId": "3aa2e5c6-31f5-4f73-968b-6221dcdaaa31"
      },
      "execution_count": 40,
      "outputs": [
        {
          "name": "stdout",
          "output_type": "stream",
          "text": [
            "Enter the string: python\n"
          ]
        }
      ]
    },
    {
      "cell_type": "code",
      "source": [
        "char_list = list(input_str)\n",
        "del char_list[1]\n",
        "del char_list[3]"
      ],
      "metadata": {
        "id": "VSQgOXqWiiaz"
      },
      "execution_count": 41,
      "outputs": []
    },
    {
      "cell_type": "code",
      "source": [
        "char_list.reverse()\n",
        "result = ''.join(char_list)\n",
        "print(result)"
      ],
      "metadata": {
        "colab": {
          "base_uri": "https://localhost:8080/"
        },
        "id": "t3Er_46yi45C",
        "outputId": "b9e8cf56-03fb-4652-e566-2b2a0cc713a8"
      },
      "execution_count": 42,
      "outputs": [
        {
          "output_type": "stream",
          "name": "stdout",
          "text": [
            "nhtp\n"
          ]
        }
      ]
    },
    {
      "cell_type": "code",
      "source": [
        "num1 = float(input(\"Enter first number: \"))\n",
        "num2 = float(input(\"Enter second number: \"))"
      ],
      "metadata": {
        "colab": {
          "base_uri": "https://localhost:8080/"
        },
        "id": "gnGrBoHN732O",
        "outputId": "bfdf5ffe-3b24-4fb2-c3dc-3f4c451feefc"
      },
      "execution_count": 2,
      "outputs": [
        {
          "name": "stdout",
          "output_type": "stream",
          "text": [
            "Enter first number: 3\n",
            "Enter second number: 3\n"
          ]
        }
      ]
    },
    {
      "cell_type": "code",
      "source": [
        "print(f\"Addition: {num1} + {num2} = {num1 + num2}\")\n",
        "print(f\"Subtraction: {num1} - {num2} = {num1 - num2}\")\n",
        "print(f\"Multiplication: {num1} * {num2} = {num1 * num2}\")\n",
        "if num2 != 0:\n",
        "    print(f\"Division: {num1} / {num2} = {num1 / num2}\")\n",
        "else:\n",
        "    print(\"Division: Cannot divide by zero.\")"
      ],
      "metadata": {
        "colab": {
          "base_uri": "https://localhost:8080/"
        },
        "id": "BBiQOqPg8Mfx",
        "outputId": "01f3b27c-d0c2-49e7-cba8-29006d2f9dac"
      },
      "execution_count": 3,
      "outputs": [
        {
          "output_type": "stream",
          "name": "stdout",
          "text": [
            "Addition: 3.0 + 3.0 = 6.0\n",
            "Subtraction: 3.0 - 3.0 = 0.0\n",
            "Multiplication: 3.0 * 3.0 = 9.0\n",
            "Division: 3.0 / 3.0 = 1.0\n"
          ]
        }
      ]
    },
    {
      "cell_type": "code",
      "source": [
        "sentence = input(\"Enter a sentence: \")\n",
        "updated_sentence = sentence.replace('python', 'pythons')"
      ],
      "metadata": {
        "colab": {
          "base_uri": "https://localhost:8080/"
        },
        "id": "KLmaGAHF8j7g",
        "outputId": "eaeb8dfc-5677-45c8-9189-c0e088b31e3f"
      },
      "execution_count": 4,
      "outputs": [
        {
          "name": "stdout",
          "output_type": "stream",
          "text": [
            "Enter a sentence: She like python\n"
          ]
        }
      ]
    },
    {
      "cell_type": "code",
      "source": [
        "print(\"Updated sentence:\", updated_sentence)"
      ],
      "metadata": {
        "colab": {
          "base_uri": "https://localhost:8080/"
        },
        "id": "Rb_y_za99UWj",
        "outputId": "88047fb0-6ce1-49c6-c61a-c8807fc381d3"
      },
      "execution_count": 5,
      "outputs": [
        {
          "output_type": "stream",
          "name": "stdout",
          "text": [
            "Updated sentence: She like pythons\n"
          ]
        }
      ]
    },
    {
      "cell_type": "code",
      "source": [
        "classScore = float(input(\"Enter your class score (0–100): \"))"
      ],
      "metadata": {
        "colab": {
          "base_uri": "https://localhost:8080/"
        },
        "id": "VZ-Nbs369mVh",
        "outputId": "c2610643-7e91-463e-a321-1c5183cf731e"
      },
      "execution_count": 9,
      "outputs": [
        {
          "name": "stdout",
          "output_type": "stream",
          "text": [
            "Enter your class score (0–100): 79\n"
          ]
        }
      ]
    },
    {
      "cell_type": "code",
      "source": [
        "if classScore >= 90 and classScore <= 100:\n",
        "    print(\"Grade: A\")\n",
        "elif classScore >= 80:\n",
        "    print(\"Grade: B\")\n",
        "elif classScore >= 70:\n",
        "    print(\"Grade: C\")\n",
        "elif classScore >= 60:\n",
        "    print(\"Grade: D\")\n",
        "elif classScore >= 0:\n",
        "    print(\"Grade: F\")\n",
        "else:\n",
        "    print(\"Invalid classScore. Please enter a number between 0 and 100.\")"
      ],
      "metadata": {
        "colab": {
          "base_uri": "https://localhost:8080/"
        },
        "id": "qE_dcOAG978s",
        "outputId": "93fce701-83d4-40a0-9271-d58e7da55b67"
      },
      "execution_count": 14,
      "outputs": [
        {
          "output_type": "stream",
          "name": "stdout",
          "text": [
            "Grade: C\n"
          ]
        }
      ]
    },
    {
      "cell_type": "code",
      "source": [
        "x = [23, 'Python', 23.98]"
      ],
      "metadata": {
        "id": "TMhK8KWg-lyd"
      },
      "execution_count": 17,
      "outputs": []
    },
    {
      "cell_type": "code",
      "source": [
        "types = [type(item) for item in x]"
      ],
      "metadata": {
        "id": "MTNLSAfg-sFz"
      },
      "execution_count": 18,
      "outputs": []
    },
    {
      "cell_type": "code",
      "source": [
        "print(x)\n",
        "print(types)"
      ],
      "metadata": {
        "colab": {
          "base_uri": "https://localhost:8080/"
        },
        "id": "XH3LR73L-wS-",
        "outputId": "8c2b85d6-627e-41e0-d4da-0f65e41b2bf7"
      },
      "execution_count": 19,
      "outputs": [
        {
          "output_type": "stream",
          "name": "stdout",
          "text": [
            "[23, 'Python', 23.98]\n",
            "[<class 'int'>, <class 'str'>, <class 'float'>]\n"
          ]
        }
      ]
    },
    {
      "cell_type": "code",
      "source": [
        "IT_companies = {'Facebook', 'Google', 'Microsoft', 'Apple', 'IBM', 'Oracle', 'Amazon'}\n",
        "A = {19, 22, 24, 20, 25, 26}\n",
        "B = {19, 22, 20, 25, 26, 24, 28, 27}\n",
        "age = [22, 19, 24, 25, 26, 24, 25, 24]"
      ],
      "metadata": {
        "id": "2mIn9eqW_BfJ"
      },
      "execution_count": 20,
      "outputs": []
    },
    {
      "cell_type": "code",
      "source": [
        "print(\"Length of IT_companies:\", len(IT_companies))"
      ],
      "metadata": {
        "colab": {
          "base_uri": "https://localhost:8080/"
        },
        "id": "-1z6E0_W_FV4",
        "outputId": "4916b632-ec69-47cc-aebd-7e20f9f2e0dd"
      },
      "execution_count": 21,
      "outputs": [
        {
          "output_type": "stream",
          "name": "stdout",
          "text": [
            "Length of IT_companies: 7\n"
          ]
        }
      ]
    },
    {
      "cell_type": "code",
      "source": [
        "IT_companies.add('Twitter')\n",
        "print(\"After adding Twitter:\", IT_companies)"
      ],
      "metadata": {
        "colab": {
          "base_uri": "https://localhost:8080/"
        },
        "id": "3OG2lvdW_LIF",
        "outputId": "74106b1b-049c-4a59-fa24-ccfb4820234f"
      },
      "execution_count": 22,
      "outputs": [
        {
          "output_type": "stream",
          "name": "stdout",
          "text": [
            "After adding Twitter: {'Oracle', 'Google', 'Facebook', 'Amazon', 'Twitter', 'IBM', 'Microsoft', 'Apple'}\n"
          ]
        }
      ]
    },
    {
      "cell_type": "code",
      "source": [
        "IT_companies.update(['Tesla', 'Intel', 'Spotify'])\n",
        "print(\"After adding multiple companies:\", IT_companies)"
      ],
      "metadata": {
        "colab": {
          "base_uri": "https://localhost:8080/"
        },
        "id": "pT0i1br1_O8f",
        "outputId": "3a71c53e-0c93-4ea0-91dc-590153a0aa39"
      },
      "execution_count": 23,
      "outputs": [
        {
          "output_type": "stream",
          "name": "stdout",
          "text": [
            "After adding multiple companies: {'Amazon', 'Twitter', 'Tesla', 'Apple', 'Google', 'Facebook', 'Oracle', 'Spotify', 'Microsoft', 'IBM', 'Intel'}\n"
          ]
        }
      ]
    },
    {
      "cell_type": "code",
      "source": [
        "IT_companies.remove('Oracle')\n",
        "print(\"After removing Oracle:\", IT_companies)"
      ],
      "metadata": {
        "colab": {
          "base_uri": "https://localhost:8080/"
        },
        "id": "CSCWiOfI_SLl",
        "outputId": "4c17ad66-7654-4998-ce27-e5b021b3941f"
      },
      "execution_count": 24,
      "outputs": [
        {
          "output_type": "stream",
          "name": "stdout",
          "text": [
            "After removing Oracle: {'Amazon', 'Twitter', 'Tesla', 'Apple', 'Google', 'Facebook', 'Spotify', 'Microsoft', 'IBM', 'Intel'}\n"
          ]
        }
      ]
    },
    {
      "cell_type": "code",
      "source": [
        "print(\"remove vs discard: remove raises error if item not found; discard does not.\")"
      ],
      "metadata": {
        "colab": {
          "base_uri": "https://localhost:8080/"
        },
        "id": "N-KNjrUZ_UT3",
        "outputId": "02ad7ca0-ff5f-4d2b-b9a8-66bc0582e64c"
      },
      "execution_count": 25,
      "outputs": [
        {
          "output_type": "stream",
          "name": "stdout",
          "text": [
            "remove vs discard: remove raises error if item not found; discard does not.\n"
          ]
        }
      ]
    },
    {
      "cell_type": "code",
      "source": [
        "union_set = A.union(B)\n",
        "print(\"Union of A and B:\", union_set)"
      ],
      "metadata": {
        "colab": {
          "base_uri": "https://localhost:8080/"
        },
        "id": "-PSGwGCM_fCF",
        "outputId": "7719117f-8681-4cf2-f0e0-b8667aa1d204"
      },
      "execution_count": 26,
      "outputs": [
        {
          "output_type": "stream",
          "name": "stdout",
          "text": [
            "Union of A and B: {19, 20, 22, 24, 25, 26, 27, 28}\n"
          ]
        }
      ]
    },
    {
      "cell_type": "code",
      "source": [
        "intersection = A.intersection(B)\n",
        "print(\"Intersection of A and B:\", intersection)"
      ],
      "metadata": {
        "colab": {
          "base_uri": "https://localhost:8080/"
        },
        "id": "p1wtghGh_h_R",
        "outputId": "6616040e-d3ef-4ac8-8efc-5f5cdbad88bb"
      },
      "execution_count": 27,
      "outputs": [
        {
          "output_type": "stream",
          "name": "stdout",
          "text": [
            "Intersection of A and B: {19, 20, 22, 24, 25, 26}\n"
          ]
        }
      ]
    },
    {
      "cell_type": "code",
      "source": [
        "print(\"Is A subset of B?:\", A.issubset(B))"
      ],
      "metadata": {
        "colab": {
          "base_uri": "https://localhost:8080/"
        },
        "id": "0z0YFoJa_l_M",
        "outputId": "1a7dcf70-699e-4289-b172-d8c2449fe528"
      },
      "execution_count": 28,
      "outputs": [
        {
          "output_type": "stream",
          "name": "stdout",
          "text": [
            "Is A subset of B?: True\n"
          ]
        }
      ]
    },
    {
      "cell_type": "code",
      "source": [
        "print(\"Are A and B disjoint?:\", A.isdisjoint(B))"
      ],
      "metadata": {
        "colab": {
          "base_uri": "https://localhost:8080/"
        },
        "id": "h1Q34oJE_qgO",
        "outputId": "319bb9ad-a736-4ff8-c618-35e5a454dace"
      },
      "execution_count": 29,
      "outputs": [
        {
          "output_type": "stream",
          "name": "stdout",
          "text": [
            "Are A and B disjoint?: False\n"
          ]
        }
      ]
    },
    {
      "cell_type": "code",
      "source": [
        "print(\"A union B:\", A.union(B))\n",
        "print(\"B union A:\", B.union(A))"
      ],
      "metadata": {
        "colab": {
          "base_uri": "https://localhost:8080/"
        },
        "id": "a_YcF1uT_tPY",
        "outputId": "e43dc15b-b111-4682-db36-255d285f28ef"
      },
      "execution_count": 30,
      "outputs": [
        {
          "output_type": "stream",
          "name": "stdout",
          "text": [
            "A union B: {19, 20, 22, 24, 25, 26, 27, 28}\n",
            "B union A: {19, 20, 22, 24, 25, 26, 27, 28}\n"
          ]
        }
      ]
    },
    {
      "cell_type": "code",
      "source": [
        "sym_diff = A.symmetric_difference(B)\n",
        "print(\"Symmetric difference between A and B:\", sym_diff)"
      ],
      "metadata": {
        "colab": {
          "base_uri": "https://localhost:8080/"
        },
        "id": "TMDKbAOt_wGL",
        "outputId": "d37b59ab-75e5-4b4c-c72f-fb6744f9f843"
      },
      "execution_count": 31,
      "outputs": [
        {
          "output_type": "stream",
          "name": "stdout",
          "text": [
            "Symmetric difference between A and B: {27, 28}\n"
          ]
        }
      ]
    },
    {
      "cell_type": "code",
      "source": [
        "del A\n",
        "del B"
      ],
      "metadata": {
        "id": "uSQ9c0dP_ypL"
      },
      "execution_count": 32,
      "outputs": []
    },
    {
      "cell_type": "code",
      "source": [
        "age_set = set(age)\n",
        "print(\"Original age list length:\", len(age))\n",
        "print(\"Unique age set length:\", len(age_set))"
      ],
      "metadata": {
        "colab": {
          "base_uri": "https://localhost:8080/"
        },
        "id": "6mvBZ4T7_273",
        "outputId": "2347a436-5634-4509-85e1-cf471b94b406"
      },
      "execution_count": 33,
      "outputs": [
        {
          "output_type": "stream",
          "name": "stdout",
          "text": [
            "Original age list length: 8\n",
            "Unique age set length: 5\n"
          ]
        }
      ]
    }
  ]
}