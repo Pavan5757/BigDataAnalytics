{
  "nbformat": 4,
  "nbformat_minor": 0,
  "metadata": {
    "colab": {
      "provenance": []
    },
    "kernelspec": {
      "name": "python3",
      "display_name": "Python 3"
    },
    "language_info": {
      "name": "python"
    }
  },
  "cells": [
    {
      "cell_type": "markdown",
      "source": [],
      "metadata": {
        "id": "JVGe0OxSVPdS"
      }
    },
    {
      "cell_type": "code",
      "execution_count": 1,
      "metadata": {
        "colab": {
          "base_uri": "https://localhost:8080/"
        },
        "id": "0FsBik5NdG5B",
        "outputId": "ba102e3c-289c-483d-9b0a-169f73b9fdf1"
      },
      "outputs": [
        {
          "output_type": "stream",
          "name": "stdout",
          "text": [
            "Original vector:\n",
            " [ 5 18 15 18 19  6  6  7  9  4  2 10  8 19 20]\n"
          ]
        }
      ],
      "source": [
        "import numpy as np\n",
        "vector = np.random.randint(1, 21, size=15)\n",
        "print(\"Original vector:\\n\", vector)"
      ]
    },
    {
      "cell_type": "code",
      "source": [
        "reshaped = vector.reshape(3, 5)\n",
        "print(\"Reshaped (3x5):\\n\", reshaped)"
      ],
      "metadata": {
        "colab": {
          "base_uri": "https://localhost:8080/"
        },
        "id": "KjP4-EPVfyfh",
        "outputId": "5deb684b-d4fb-48db-936d-df3af1eb8816"
      },
      "execution_count": 2,
      "outputs": [
        {
          "output_type": "stream",
          "name": "stdout",
          "text": [
            "Reshaped (3x5):\n",
            " [[ 5 18 15 18 19]\n",
            " [ 6  6  7  9  4]\n",
            " [ 2 10  8 19 20]]\n"
          ]
        }
      ]
    },
    {
      "cell_type": "code",
      "source": [
        "for row in reshaped:\n",
        "    row[row.argmax()] = 0\n",
        "print(\"After replacing max in each row with 0:\\n\", reshaped)\n",
        "\n",
        "print(\"Shape of array:\", reshaped.shape)"
      ],
      "metadata": {
        "colab": {
          "base_uri": "https://localhost:8080/"
        },
        "id": "5s-OXuAIf0uP",
        "outputId": "e3f6714a-5541-43ad-f143-2cdd3fd6d95b"
      },
      "execution_count": 3,
      "outputs": [
        {
          "output_type": "stream",
          "name": "stdout",
          "text": [
            "After replacing max in each row with 0:\n",
            " [[ 5 18 15 18  0]\n",
            " [ 6  6  7  0  4]\n",
            " [ 2 10  8 19  0]]\n",
            "Shape of array: (3, 5)\n"
          ]
        }
      ]
    },
    {
      "cell_type": "code",
      "source": [
        "arr = np.array([[9, 8, 4], [8, 3, 4], [2, 5, 8], [8, 0, 1]], dtype=np.int32)\n",
        "print(\"Array:\\n\", arr)\n",
        "print(\"Shape:\", arr.shape)\n",
        "print(\"Type:\", type(arr))\n",
        "print(\"Data type:\", arr.dtype)"
      ],
      "metadata": {
        "colab": {
          "base_uri": "https://localhost:8080/"
        },
        "id": "DXHZj42nf508",
        "outputId": "935290ce-ae58-43d7-af8f-2fd7d713c082"
      },
      "execution_count": 4,
      "outputs": [
        {
          "output_type": "stream",
          "name": "stdout",
          "text": [
            "Array:\n",
            " [[9 8 4]\n",
            " [8 3 4]\n",
            " [2 5 8]\n",
            " [8 0 1]]\n",
            "Shape: (4, 3)\n",
            "Type: <class 'numpy.ndarray'>\n",
            "Data type: int32\n"
          ]
        }
      ]
    },
    {
      "cell_type": "code",
      "source": [
        "matrix = np.array([[3, -2], [1, 0]])\n",
        "eigenvalues, eigenvectors = np.linalg.eig(matrix)\n",
        "print(\"Eigenvalues:\", eigenvalues)\n",
        "print(\"Eigenvectors:\\n\", eigenvectors)\n"
      ],
      "metadata": {
        "colab": {
          "base_uri": "https://localhost:8080/"
        },
        "id": "12g15GKNg2b_",
        "outputId": "1ac686f7-32a1-49f0-f454-17de4be79739"
      },
      "execution_count": 5,
      "outputs": [
        {
          "output_type": "stream",
          "name": "stdout",
          "text": [
            "Eigenvalues: [2. 1.]\n",
            "Eigenvectors:\n",
            " [[0.89442719 0.70710678]\n",
            " [0.4472136  0.70710678]]\n"
          ]
        }
      ]
    },
    {
      "cell_type": "code",
      "source": [
        "array = np.array([[0, 1, 2], [3, 4, 5]])\n",
        "diagonal_sum = np.trace(array)\n",
        "print(\"Sum of diagonal elements:\", diagonal_sum)\n"
      ],
      "metadata": {
        "colab": {
          "base_uri": "https://localhost:8080/"
        },
        "id": "VCfMpNj3hG_U",
        "outputId": "602de88e-2844-48a6-a61a-542626b008e8"
      },
      "execution_count": 6,
      "outputs": [
        {
          "output_type": "stream",
          "name": "stdout",
          "text": [
            "Sum of diagonal elements: 4\n"
          ]
        }
      ]
    },
    {
      "cell_type": "code",
      "source": [
        "original = np.array([[1, 2], [3, 4], [5, 6]])\n",
        "reshaped = original.reshape(2, 3)\n",
        "print(\"Original (3x2):\\n\", original)\n",
        "print(\"Reshaped (2x3):\\n\", reshaped)\n"
      ],
      "metadata": {
        "id": "NacXpVKphXvX",
        "outputId": "25724912-1af8-4ef5-b322-5782105cd493",
        "colab": {
          "base_uri": "https://localhost:8080/"
        }
      },
      "execution_count": 7,
      "outputs": [
        {
          "output_type": "stream",
          "name": "stdout",
          "text": [
            "Original (3x2):\n",
            " [[1 2]\n",
            " [3 4]\n",
            " [5 6]]\n",
            "Reshaped (2x3):\n",
            " [[1 2 3]\n",
            " [4 5 6]]\n"
          ]
        }
      ]
    }
  ]
}